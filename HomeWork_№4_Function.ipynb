{
 "cells": [
  {
   "cell_type": "markdown",
   "metadata": {},
   "source": [
    "# Задание 1"
   ]
  },
  {
   "cell_type": "code",
   "execution_count": 23,
   "metadata": {},
   "outputs": [],
   "source": [
    "documents = [\n",
    " {'type': 'passport', 'number': '2207 876234', 'name': 'Василий Гупкин'},\n",
    " {'type': 'invoice', 'number': '11-2', 'name': 'Геннадий Покемонов'},\n",
    " {'type': 'insurance', 'number': '10006', 'name': 'Аристарх Павлов'}\n",
    "]\n",
    "directories = {\n",
    " '1': ['2207 876234', '11-2'],\n",
    " '2': ['10006'],\n",
    " '3': []\n",
    "}\n",
    "# Пункт 1 \n",
    "def define_owner(docs_number):  # принимаем на вход номер документа    \n",
    "    owner = str()\n",
    "    for line in documents: # пробегаем по списку словарей\n",
    "        for keys, values in line.items(): # если в значениях словаря находится номер\n",
    "            if (values == docs_number):\n",
    "                owner = line['name']\n",
    "    if not owner:\n",
    "        return print('Документ не найден в базе') \n",
    "    else:\n",
    "        return print('Владелец документа: ', owner) # выводим владельц\n",
    "# Пункт 2\n",
    "def define_shelf(shelf_number): # принимаем на вход номер документа\n",
    "    for key, vls in directories.items(): # пробегаем по словарю \n",
    "        if (shelf_number in vls ):\n",
    "            return key\n",
    "    return None\n",
    "# Пункт 3\n",
    "def full_info():\n",
    "     for dictin in documents:\n",
    "            shelf_count = define_shelf(dictin['number'])\n",
    "            print('№:', dictin['number'], 'тип: ', dictin['type'], 'владелец: ', dictin['name'],'полка хранения: ',shelf_count)\n",
    "# Пункт 4\n",
    "def adds_shelf(new_shelf):\n",
    "    if new_shelf in directories.keys():\n",
    "#         string_of_keys = list(directories.keys())\n",
    "        return print('Такая полка уже существует. Текущий перечень полок:',','.join([str(i) for i in list(directories.keys())]),'.' )      \n",
    "    else:\n",
    "        directories[new_shelf] = []\n",
    "#         string_of_keys = list(directories.keys())\n",
    "        return print('Полка добавлена. Текущий перечень полок:', ','.join([str(i) for i in list(directories.keys())]),'.' )     \n",
    "# Пункт 5\n",
    "def del_shelf(d_shelf):\n",
    "    if (directories.get(d_shelf) == []):\n",
    "        del(directories[d_shelf])\n",
    "        return print('Полка удалена. Текущий перечень полок: ', ','.join([str(i) for i in list(directories.keys())]),'.' )\n",
    "    elif (directories.get(d_shelf) != []):\n",
    "        return print('На полке есть документы, удалите их перед удалением полки. Текущий перечень полок: ', ','.join([str(i) for i in list(directories.keys())]),'.' )\n",
    "    else:\n",
    "        return print('Такой полки не существует. Текущий перечень полок: ',','.join([str(i) for i in list(directories.keys())]),'.' )\n",
    "        \n",
    "            \n",
    "\n",
    "def main():\n",
    "    choice = input('Введите команду: ')\n",
    "    if (choice == 'p'):\n",
    "        docs_number = input('Введите номер документа: ')\n",
    "        define_owner(docs_number)\n",
    "    elif (choice == 's'):\n",
    "        shelf_number = input('Введите номер документа')\n",
    "        owner = define_shelf(shelf_number)\n",
    "        if not owner :\n",
    "            return print('Документ не найден')\n",
    "        else:\n",
    "            return print('Документ хранится на полке: ', owner)\n",
    "    elif (choice == 'l'):\n",
    "        full_info()\n",
    "        return\n",
    "    elif (choice == 'ads'):\n",
    "        n_shelf = input('Введите номер полки: ')\n",
    "        adds_shelf(n_shelf)\n",
    "    elif (choice == 'ds'):\n",
    "        number_of_shelf = input('Введите номер полки: ')\n",
    "        del_shelf(number_of_shelf)\n",
    "        return\n",
    "    else:\n",
    "        return print('Неизвестная команда.')\n",
    "\n",
    "\n",
    "\n",
    "\n",
    "\n"
   ]
  },
  {
   "cell_type": "code",
   "execution_count": 24,
   "metadata": {},
   "outputs": [
    {
     "name": "stdout",
     "output_type": "stream",
     "text": [
      "Введите команду: s\n",
      "Введите номер документа11-2\n",
      "Документ хранится на полке:  1\n"
     ]
    }
   ],
   "source": [
    "main()"
   ]
  },
  {
   "cell_type": "markdown",
   "metadata": {},
   "source": [
    "# Задание № 2"
   ]
  },
  {
   "cell_type": "code",
   "execution_count": null,
   "metadata": {},
   "outputs": [],
   "source": []
  }
 ],
 "metadata": {
  "kernelspec": {
   "display_name": "Python 3",
   "language": "python",
   "name": "python3"
  },
  "language_info": {
   "codemirror_mode": {
    "name": "ipython",
    "version": 3
   },
   "file_extension": ".py",
   "mimetype": "text/x-python",
   "name": "python",
   "nbconvert_exporter": "python",
   "pygments_lexer": "ipython3",
   "version": "3.8.5"
  }
 },
 "nbformat": 4,
 "nbformat_minor": 4
}
