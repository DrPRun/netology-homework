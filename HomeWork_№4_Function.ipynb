{
 "cells": [
  {
   "cell_type": "markdown",
   "metadata": {},
   "source": [
    "# Задание 1"
   ]
  },
  {
   "cell_type": "code",
   "execution_count": 43,
   "metadata": {},
   "outputs": [],
   "source": [
    "documents = [\n",
    " {'type': 'passport', 'number': '2207 876234', 'name': 'Василий Гупкин'},\n",
    " {'type': 'invoice', 'number': '11-2', 'name': 'Геннадий Покемонов'},\n",
    " {'type': 'insurance', 'number': '10006', 'name': 'Аристарх Павлов'}\n",
    "]\n",
    "directories = {\n",
    " '1': ['2207 876234', '11-2'],\n",
    " '2': ['10006'],\n",
    " '3': []\n",
    "}\n",
    "# пункт 1 \n",
    "def define_owner(docs_number):  # принимаем на вход номер документа\n",
    "    for line in documents: # пробегаем по списку словарей\n",
    "        for keys, values in line.items(): # если в значениях словаря находится номер\n",
    "            if (values == docs_number):\n",
    "                return print('Владелец документа: ', line['name']) # выводим владельца\n",
    "    return ('Документ не найден в базе') \n",
    "# пункт 2\n",
    "def define_shelf(shelf_number): # принимаем на вход номер документа\n",
    "    for key, vls in directories.items(): # пробегаем по словарю \n",
    "        if (shelf_number in vls ):\n",
    "            return print('Документ хранится на полке:', key)\n",
    "    return ('Документ не найден')\n",
    "def full_info():\n",
    "    for line in documents:\n",
    "        shelf = define_shelf(line['number']) \n",
    "        nmr = line['number']\n",
    "        tp = line['type']\n",
    "        #print(shelf)\n",
    "        print('№: ',nmr,'тип: ', tp, 'владелец: ', shelf)\n",
    "    return   "
   ]
  },
  {
   "cell_type": "code",
   "execution_count": 44,
   "metadata": {},
   "outputs": [
    {
     "name": "stdout",
     "output_type": "stream",
     "text": [
      "Документ хранится на полке: 1\n",
      "№:  2207 876234 тип:  passport владелец:  None\n",
      "Документ хранится на полке: 1\n",
      "№:  11-2 тип:  invoice владелец:  None\n",
      "Документ хранится на полке: 2\n",
      "№:  10006 тип:  insurance владелец:  None\n"
     ]
    }
   ],
   "source": [
    "full_info()     \n",
    "\n",
    "    "
   ]
  },
  {
   "cell_type": "code",
   "execution_count": 27,
   "metadata": {},
   "outputs": [],
   "source": []
  },
  {
   "cell_type": "code",
   "execution_count": 28,
   "metadata": {},
   "outputs": [
    {
     "name": "stdout",
     "output_type": "stream",
     "text": [
      "Введите команду: l\n",
      "Документ хранится на полке: 1\n",
      "None\n"
     ]
    }
   ],
   "source": [
    "main()"
   ]
  },
  {
   "cell_type": "code",
   "execution_count": 32,
   "metadata": {},
   "outputs": [
    {
     "data": {
      "text/plain": [
       "'Документ не найден'"
      ]
     },
     "execution_count": 32,
     "metadata": {},
     "output_type": "execute_result"
    }
   ],
   "source": [
    "define_shelf(10006)"
   ]
  },
  {
   "cell_type": "code",
   "execution_count": null,
   "metadata": {},
   "outputs": [],
   "source": [
    "def main():\n",
    "    choice = input('Введите команду: ')\n",
    "    if (choice == 'p' ):\n",
    "        dcs_nmbr = input('Введите номер документа: ')\n",
    "        define_owner(dcs_nmbr)\n",
    "    elif (choice == 's'):\n",
    "        dcs_nmbr = input('Введите номер документа: ')\n",
    "        define_shelf(dcs_nmbr)\n",
    "    elif (choice == 'l'):\n",
    "        for docs in documents:\n",
    "            shelf = define_shelf(docs['number'])\n",
    "            return print(shelf)\n",
    "#             print('№: ', docs['number'], 'тип: ',docs['type'], 'владелец: ',docs['name'], 'полка хранения: ', shelf)"
   ]
  }
 ],
 "metadata": {
  "kernelspec": {
   "display_name": "Python 3",
   "language": "python",
   "name": "python3"
  },
  "language_info": {
   "codemirror_mode": {
    "name": "ipython",
    "version": 3
   },
   "file_extension": ".py",
   "mimetype": "text/x-python",
   "name": "python",
   "nbconvert_exporter": "python",
   "pygments_lexer": "ipython3",
   "version": "3.8.5"
  }
 },
 "nbformat": 4,
 "nbformat_minor": 4
}
