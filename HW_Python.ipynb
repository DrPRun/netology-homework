{
 "cells": [
  {
   "cell_type": "markdown",
   "metadata": {},
   "source": [
    "# Задание 1"
   ]
  },
  {
   "cell_type": "code",
   "execution_count": 5,
   "metadata": {},
   "outputs": [
    {
     "name": "stdout",
     "output_type": "stream",
     "text": [
      "Фразы равной длины\n",
      "Конец программы\n"
     ]
    }
   ],
   "source": [
    "phrase_1 = 'hello, my name is Stiv'\n",
    "phrase_2 = 'hello, my name is Jobs'\n",
    "if (len(phrase_1) > len(phrase_2)):\n",
    "    print('Фраза 1 длиннее фразы 2')\n",
    "elif (len(phrase_1) < len(phrase_2)):\n",
    "    print('Фраза 2 длиннее фразы 2')\n",
    "else:\n",
    "    print('Фразы равной длины')\n",
    "print('Конец программы')"
   ]
  },
  {
   "cell_type": "markdown",
   "metadata": {},
   "source": [
    "# Задание 2"
   ]
  },
  {
   "cell_type": "code",
   "execution_count": 72,
   "metadata": {},
   "outputs": [
    {
     "name": "stdout",
     "output_type": "stream",
     "text": [
      "Результат: \n",
      "Высокосный год\n"
     ]
    }
   ],
   "source": [
    "year = 1504\n",
    "print('Результат: ')\n",
    "if( year % 4 == 0 and (year % 100 != 0 or year % 400 == 0)):\n",
    "    print('Высокосный год')   \n",
    "elif (year% 100 == 0 or year % 4 != 0):\n",
    "    print('Обычный год')\n",
    "    "
   ]
  },
  {
   "cell_type": "markdown",
   "metadata": {},
   "source": [
    "# Задание 3"
   ]
  },
  {
   "cell_type": "code",
   "execution_count": 21,
   "metadata": {},
   "outputs": [
    {
     "name": "stdout",
     "output_type": "stream",
     "text": [
      "Введите день: 25\n",
      "Введите месяц: Февраль\n",
      "Результат: \n",
      "Ваш знак зодиака: \n",
      "Рыбы\n",
      "конец программы\n"
     ]
    }
   ],
   "source": [
    "day = int(input('Введите день: '))\n",
    "month = input('Введите месяц: ')\n",
    "print('Результат: ')\n",
    "print('Ваш знак зодиака: ')\n",
    "if ((month == 'Март' and day >= 21) or (month == 'Апрель' and day <= 19 )):\n",
    "    print('Овен')\n",
    "elif ((month == 'Апрель' and day >= 20) or (month == 'Май' and day <= 20 )):\n",
    "    print('Телец')\n",
    "elif ((month == 'Май' and day >= 21) or (month == 'Июнь' and day <= 20 )): \n",
    "    print('Близнецы')\n",
    "elif ((month == 'Июнь' and day >= 21) or (month == 'Июль' and day <= 22 )):    \n",
    "    print('Рак')\n",
    "elif ((month == 'Июль' and day >= 23) or (month == 'Август' and day <= 22 )): \n",
    "    print('Лев')\n",
    "elif ((month == 'Август' and day >= 23) or (month == 'Сентябрь' and day <= 22 )): \n",
    "    print('Дева')\n",
    "elif ((month == 'Сентябрь' and day >= 23) or (month == 'Октябрь' and day <= 22 )): \n",
    "    print('Весы')\n",
    "elif ((month == 'Октябрь' and day >= 23) or (month == 'Ноябрь' and day <= 21 )): \n",
    "    print('Скорпион')\n",
    "elif ((month == 'Ноябрь' and day >= 22) or (month == 'Декабрь' and day <= 21 )): \n",
    "    print('Стрелец')\n",
    "elif ((month == 'Декабрь' and day >= 22) or (month == 'Январь' and day <= 19 )): \n",
    "    print('Козерог')\n",
    "elif ((month == 'Январь' and day >= 20) or (month == 'Февраль' and day <= 18 )): \n",
    "    print('Водолей')\n",
    "elif ((month == 'Февраль' and day >= 19) or (month == 'Март' and day <= 20 )): \n",
    "    print('Рыбы')\n",
    "else:\n",
    "    print('Некорректные данные')\n",
    "print(\"конец программы\")"
   ]
  },
  {
   "cell_type": "markdown",
   "metadata": {},
   "source": [
    "# Задание 4"
   ]
  },
  {
   "cell_type": "code",
   "execution_count": 55,
   "metadata": {},
   "outputs": [
    {
     "name": "stdout",
     "output_type": "stream",
     "text": [
      "Результат: \n",
      "Коробка №2\n",
      "Конец программы\n"
     ]
    }
   ],
   "source": [
    "width = 180\n",
    "length = 18\n",
    "height = 45\n",
    "print('Результат: ')\n",
    "if (width  < 15 and length < 15 and height < 15 ):\n",
    "    print('Коробка №1')\n",
    "elif(  length >= 200):\n",
    "    print('Упаковка для лыж')\n",
    "elif(( 50 > width >= 15) or (50 > length >= 15) or (50 > height >= 15) ):\n",
    "    print('Коробка №2')\n",
    "else:\n",
    "    print('Стандартная коробка №3')\n",
    "print('Конец программы')"
   ]
  },
  {
   "cell_type": "markdown",
   "metadata": {},
   "source": [
    "# Задание 5"
   ]
  },
  {
   "cell_type": "code",
   "execution_count": 58,
   "metadata": {},
   "outputs": [
    {
     "name": "stdout",
     "output_type": "stream",
     "text": [
      "Введите число321789\n",
      "Несчасливый билет\n"
     ]
    }
   ],
   "source": [
    "number = input('Введите число')\n",
    "sum_one = int(number[0]) + int(number[1]) + int(number[2])\n",
    "sum_two = int(number[3]) + int(number[4]) + int(number[5])  \n",
    "if(sum_one == sum_two):\n",
    "    print('Счастливый билет')\n",
    "else:\n",
    "    print('Несчасливый билет')"
   ]
  },
  {
   "cell_type": "markdown",
   "metadata": {},
   "source": [
    "# Задание 6"
   ]
  },
  {
   "cell_type": "code",
   "execution_count": 53,
   "metadata": {},
   "outputs": [
    {
     "name": "stdout",
     "output_type": "stream",
     "text": [
      "Введите тип фигуры:Треугольник\n",
      "Введите длину стороны A: 3\n",
      "Введите длину стороны B: 3\n",
      "Введите длину стороны C: 3\n",
      "Площадь треугольника:  3.897114317029974\n",
      "Конец программы.\n"
     ]
    }
   ],
   "source": [
    "figure = input('Введите тип фигуры:')\n",
    "if(figure == 'Круг'):\n",
    "    radius = int(input('Введите радиус круга:'))\n",
    "    square = 3.14*(radius**2)\n",
    "    print('Площадь круга: ', square)\n",
    "elif(figure == 'Треугольник' ):\n",
    "    A = int(input('Введите длину стороны A: '))\n",
    "    B = int(input('Введите длину стороны B: '))\n",
    "    C = int(input('Введите длину стороны C: '))\n",
    "    half_perimetr = (A + B + C)/2\n",
    "    square = (half_perimetr * (half_perimetr - A) * (half_perimetr - B) * (half_perimetr - C)) **(1/2)\n",
    "    print('Площадь треугольника: ', square)\n",
    "elif(figure == 'Прямоугольник'):\n",
    "    A = int(input('Введите длину стороны A: '))\n",
    "    B = int(input('Введите длину стороны B: '))\n",
    "    square = A*B\n",
    "    print('Площадь прямоугольника: ', square)\n",
    "else:\n",
    "    print('Неизвестная фигура')\n",
    "print('Конец программы.')"
   ]
  },
  {
   "cell_type": "code",
   "execution_count": 55,
   "metadata": {},
   "outputs": [
    {
     "data": {
      "text/plain": [
       "3.0"
      ]
     },
     "execution_count": 55,
     "metadata": {},
     "output_type": "execute_result"
    }
   ],
   "source": [
    "9**(1/2)"
   ]
  },
  {
   "cell_type": "code",
   "execution_count": null,
   "metadata": {},
   "outputs": [],
   "source": []
  }
 ],
 "metadata": {
  "kernelspec": {
   "display_name": "Python 3",
   "language": "python",
   "name": "python3"
  },
  "language_info": {
   "codemirror_mode": {
    "name": "ipython",
    "version": 3
   },
   "file_extension": ".py",
   "mimetype": "text/x-python",
   "name": "python",
   "nbconvert_exporter": "python",
   "pygments_lexer": "ipython3",
   "version": "3.8.5"
  }
 },
 "nbformat": 4,
 "nbformat_minor": 4
}
