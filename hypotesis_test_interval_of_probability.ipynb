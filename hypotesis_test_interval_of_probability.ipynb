{
 "cells": [
  {
   "cell_type": "markdown",
   "id": "c476ff9c",
   "metadata": {},
   "source": [
    "## Задание № 0"
   ]
  },
  {
   "cell_type": "code",
   "execution_count": 73,
   "id": "4aca0327",
   "metadata": {},
   "outputs": [
    {
     "data": {
      "text/plain": [
       "187"
      ]
     },
     "execution_count": 73,
     "metadata": {},
     "output_type": "execute_result"
    }
   ],
   "source": [
    "import numpy as np  \n",
    "import pandas as pd  # для работы с таблицами\n",
    "from scipy import stats # При работе со статистикой\n",
    "import matplotlib.pyplot as plt  # Библиотека для визуализации результатов \n",
    "import scipy as spy\n",
    "\n",
    "import seaborn as sns # Более продвинутая библиотека для визуализации\n",
    "\n",
    "# n = ((sigma * Z_a)/delta)**2\n",
    "n = int(((25*st.norm.ppf(0.95))/(3))**2)\n",
    "n"
   ]
  },
  {
   "cell_type": "markdown",
   "id": "cb22032c",
   "metadata": {},
   "source": [
    "## Задание № 1"
   ]
  },
  {
   "cell_type": "code",
   "execution_count": 15,
   "id": "11886900",
   "metadata": {},
   "outputs": [
    {
     "data": {
      "text/plain": [
       "(136.16124673189546, 123.83875326810453)"
      ]
     },
     "execution_count": 15,
     "metadata": {},
     "output_type": "execute_result"
    }
   ],
   "source": [
    "# L = \n",
    "(st.norm.ppf(0.98) * 15)/np.sqrt(25) + 130, 130 - (st.norm.ppf(0.98) * 15)/np.sqrt(25)"
   ]
  },
  {
   "cell_type": "markdown",
   "id": "a7cc5929",
   "metadata": {},
   "source": [
    "## Задание № 2"
   ]
  },
  {
   "cell_type": "code",
   "execution_count": 41,
   "id": "19afb4ef",
   "metadata": {},
   "outputs": [
    {
     "data": {
      "text/plain": [
       "Ttest_indResult(statistic=3.6635841716708892, pvalue=0.00024875321033580573)"
      ]
     },
     "execution_count": 41,
     "metadata": {},
     "output_type": "execute_result"
    }
   ],
   "source": [
    "import scipy.stats as stats\n",
    "np.random.seed(42) #фиксация случайности\n",
    "\n",
    "mens  = stats.norm.rvs(loc=171, scale=100, size=150000)  # Выборка мужчин со средним ростом 171\n",
    "womens = stats.norm.rvs(loc=170, scale=100, size=150000)  # Выборка женщин со средним ростом 170\n",
    "#В двух строчках выше генерируется две выбороки, где loc это среднее значение, а scale это дисперсия\n",
    "stats.ttest_ind(mens, womens)\n"
   ]
  },
  {
   "cell_type": "markdown",
   "id": "4ed950c5",
   "metadata": {},
   "source": [
    "#### так как значение p-value меньше 0.001, то основную гипотезу о незначительном отличии выборок отвергаем и принимаем альтернативную гипотезу. то есть различия значимы"
   ]
  },
  {
   "cell_type": "code",
   "execution_count": 38,
   "id": "41a333ea",
   "metadata": {},
   "outputs": [
    {
     "data": {
      "text/plain": [
       "(array([3.4000e+01, 5.5200e+02, 4.5280e+03, 2.0073e+04, 4.4250e+04,\n",
       "        4.7373e+04, 2.5465e+04, 6.7820e+03, 8.9200e+02, 5.1000e+01]),\n",
       " array([-271.38859664, -185.05607354,  -98.72355044,  -12.39102734,\n",
       "          73.94149577,  160.27401887,  246.60654197,  332.93906507,\n",
       "         419.27158817,  505.60411128,  591.93663438]),\n",
       " <BarContainer object of 10 artists>)"
      ]
     },
     "execution_count": 38,
     "metadata": {},
     "output_type": "execute_result"
    },
    {
     "data": {
      "image/png": "[encoded data removed]",
      "text/plain": [
       "<Figure size 432x288 with 1 Axes>"
      ]
     },
     "metadata": {
      "needs_background": "light"
     },
     "output_type": "display_data"
    }
   ],
   "source": [
    "plt.hist(mens)\n",
    "plt.hist(womens)"
   ]
  },
  {
   "cell_type": "markdown",
   "id": "230f0bc0",
   "metadata": {},
   "source": [
    "### Задание 3"
   ]
  },
  {
   "cell_type": "markdown",
   "id": "ec27ffcd",
   "metadata": {},
   "source": []
  },
  {
   "cell_type": "code",
   "execution_count": 44,
   "id": "ee0c5fc2",
   "metadata": {},
   "outputs": [
    {
     "data": {
      "text/plain": [
       "24"
      ]
     },
     "execution_count": 44,
     "metadata": {},
     "output_type": "execute_result"
    }
   ],
   "source": [
    "sigma = 150\n",
    "betta = 95\n",
    "delta = 50\n",
    "N = int((sigma*(st.norm.ppf(0.95)/delta))**2)\n",
    "N"
   ]
  },
  {
   "cell_type": "markdown",
   "id": "200690b1",
   "metadata": {},
   "source": [
    "### Задание №4"
   ]
  },
  {
   "cell_type": "code",
   "execution_count": 82,
   "id": "81f63622",
   "metadata": {},
   "outputs": [],
   "source": [
    "observations = pd.DataFrame([[10, 15],[39, 34]],\n",
    "                            index=['Дождь','Солнце'],\n",
    "                            columns=['Верные ответы волшебника','Неверные ответы'])\n",
    "fish_obser = [correct_answers, wrong_answars]"
   ]
  },
  {
   "cell_type": "code",
   "execution_count": 83,
   "id": "187f36bf",
   "metadata": {},
   "outputs": [],
   "source": [
    "CA = observations[['Верные ответы волшебника','Неверные ответы']].to_numpy()"
   ]
  },
  {
   "cell_type": "code",
   "execution_count": 84,
   "id": "6955dbd6",
   "metadata": {},
   "outputs": [
    {
     "data": {
      "text/plain": [
       "(0.5811965811965812, 0.35417955365927367)"
      ]
     },
     "execution_count": 84,
     "metadata": {},
     "output_type": "execute_result"
    }
   ],
   "source": [
    "oddsratio, pvalue = spy.stats.fisher_exact(CA) # Точный тест Фишера\n",
    "oddsratio, pvalue"
   ]
  },
  {
   "cell_type": "code",
   "execution_count": 78,
   "id": "9402a47c",
   "metadata": {},
   "outputs": [],
   "source": [
    "#pvalue большое, основную гипотезу о равенстве выборок принимаем, волшебник разоблачен"
   ]
  },
  {
   "cell_type": "markdown",
   "id": "7c88386a",
   "metadata": {},
   "source": [
    "### Задание 5"
   ]
  },
  {
   "cell_type": "code",
   "execution_count": 86,
   "id": "3ec186c5",
   "metadata": {},
   "outputs": [],
   "source": [
    "data = [4,5,8,9,6,7,5,6,7,8,5,6,7,0,9,8,4,6,\n",
    "        7,9,8,6,5,7,8,9,6,7,5,8,6,7,9,5,10]"
   ]
  },
  {
   "cell_type": "code",
   "execution_count": 87,
   "id": "49bb6edf",
   "metadata": {},
   "outputs": [],
   "source": [
    "def mean_confidence_interval(data, confidence = 0.95): # \n",
    "    n = len(data)\n",
    "    m , se = np.mean(data), stats.sem(data)\n",
    "    h = se * stats.t.ppf((1 + confidence)/2, n)\n",
    "    return m - h, m , m+h"
   ]
  },
  {
   "cell_type": "code",
   "execution_count": 88,
   "id": "a34ab30f",
   "metadata": {},
   "outputs": [
    {
     "data": {
      "text/plain": [
       "(6.074074746111319, 6.628571428571429, 7.183068111031539)"
      ]
     },
     "execution_count": 88,
     "metadata": {},
     "output_type": "execute_result"
    }
   ],
   "source": [
    "mean_confidence_interval(data, confidence=0.9)"
   ]
  },
  {
   "cell_type": "markdown",
   "id": "8da404bd",
   "metadata": {},
   "source": [
    "### Задание № 6"
   ]
  },
  {
   "cell_type": "code",
   "execution_count": 90,
   "id": "59e3c4b2",
   "metadata": {},
   "outputs": [],
   "source": [
    "A = [4,5,8,9,6,7,5,6,7,6,8,5,6,7,8,4,\n",
    "    6,7,9,8,6,5,7,8,6,7,5,6,8,6,7,5,\n",
    "    4,5,8,9,6,7,5,6,7,6,8,5,6,7,8,4,\n",
    "    6,7,9,8,6,5,7,8,6,7,5,6,8,6,7,5,\n",
    "    4,5,8,9,6,7,5,6,7,6,8,5,6,7,8,4,\n",
    "    6,7,9,8,6,5,7,8,6,7,5,6,8,6,7,5,\n",
    "    4,5,8,9,6,7,5,6,7,6,8,5,6,7,8,4]\n",
    "\n",
    "B = [5,6,7,8,4,6,7,2,6,5,7,5,3,5,3,\n",
    "    5,3,5,5,8,7,6,4,5,3,5,4,6,4,5,3,\n",
    "    2,6,4,3,5,4,3,4,5,4,3,4,5,4,3,4,\n",
    "    2,6,4,3,5,4,3,4,5,4,3,4,5,4,3,4,\n",
    "    3,4,4,1,2,4,3,2,4,3,2,1,5,3,4,6,\n",
    "    3,2,4,5,6,4,3,3,5,3,4,4,4,2,5,3]"
   ]
  },
  {
   "cell_type": "code",
   "execution_count": 91,
   "id": "c379e7ec",
   "metadata": {},
   "outputs": [
    {
     "data": {
      "text/plain": [
       "(11.865233896372924, 4.623319592204015e-25)"
      ]
     },
     "execution_count": 91,
     "metadata": {},
     "output_type": "execute_result"
    }
   ],
   "source": [
    "t, pvalue = stats.ttest_ind(A, B)\n",
    "t, pvalue"
   ]
  },
  {
   "cell_type": "code",
   "execution_count": null,
   "id": "53b80e1a",
   "metadata": {},
   "outputs": [],
   "source": [
    "# Так как pvalue очень маленькое, отклоняем основную гипотезу о равенстве двух выборок"
   ]
  },
  {
   "cell_type": "markdown",
   "id": "8ef398e8",
   "metadata": {},
   "source": [
    "### Задание № 7"
   ]
  },
  {
   "cell_type": "markdown",
   "id": "6b9c4198",
   "metadata": {},
   "source": [
    "p-value мало, то есть предполагаем, что сходство с нормальным распределением не случайно, то есть распределение дейстивтельно нормальное."
   ]
  },
  {
   "cell_type": "markdown",
   "id": "659d62c3",
   "metadata": {},
   "source": [
    "### Задание №8"
   ]
  },
  {
   "cell_type": "code",
   "execution_count": 94,
   "id": "f55c22a9",
   "metadata": {},
   "outputs": [],
   "source": [
    "np.random.seed(11)\n",
    "A = stats.norm.rvs(scale=15, loc=169, size=300)\n",
    "B = stats.norm.rvs(scale=14, loc=171.4, size=300)"
   ]
  },
  {
   "cell_type": "code",
   "execution_count": 95,
   "id": "6f5bea51",
   "metadata": {},
   "outputs": [
    {
     "data": {
      "text/plain": [
       "(-1.95300880485141, 0.051284593140469285)"
      ]
     },
     "execution_count": 95,
     "metadata": {},
     "output_type": "execute_result"
    }
   ],
   "source": [
    "t, p_value = stats.ttest_ind(A, B) #Критерий Стьюдента (t-test)\n",
    "t, p_value"
   ]
  },
  {
   "cell_type": "markdown",
   "id": "36be879d",
   "metadata": {},
   "source": [
    "pvalue больше 0.05, то есть вероятность различия между выборками нельзя списать на случайность\n",
    "при заданном уровне значимости. Получается отвергаем основную гипотезу о равенстве \n",
    "двух выборок"
   ]
  },
  {
   "cell_type": "code",
   "execution_count": null,
   "id": "feb9c7c6",
   "metadata": {},
   "outputs": [],
   "source": []
  }
 ],
 "metadata": {
  "kernelspec": {
   "display_name": "Python 3",
   "language": "python",
   "name": "python3"
  },
  "language_info": {
   "codemirror_mode": {
    "name": "ipython",
    "version": 3
   },
   "file_extension": ".py",
   "mimetype": "text/x-python",
   "name": "python",
   "nbconvert_exporter": "python",
   "pygments_lexer": "ipython3",
   "version": "3.8.8"
  }
 },
 "nbformat": 4,
 "nbformat_minor": 5
}
