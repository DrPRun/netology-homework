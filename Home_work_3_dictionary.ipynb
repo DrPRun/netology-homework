{
 "cells": [
  {
   "cell_type": "markdown",
   "metadata": {},
   "source": [
    "# Задание 1"
   ]
  },
  {
   "cell_type": "code",
   "execution_count": null,
   "metadata": {},
   "outputs": [],
   "source": [
    "ids = {'user1': [213, 213, 213, 15, 213], \n",
    "       'user2': [54, 54, 119, 119, 119], \n",
    "       'user3': [213, 98, 98, 35]}\n",
    "nmb_usrs = []\n",
    "for val in ids.values():\n",
    "    for vl in val:\n",
    "        if (nmb_usrs.count(vl) == 0):\n",
    "            nmb_usrs.append(vl)\n",
    "print(nmb_usrs)"
   ]
  },
  {
   "cell_type": "markdown",
   "metadata": {},
   "source": [
    "# Задание 2"
   ]
  },
  {
   "cell_type": "code",
   "execution_count": null,
   "metadata": {},
   "outputs": [],
   "source": [
    "queries = [\n",
    "    'смотреть сериалы онлайн',\n",
    "    'новости спорта',\n",
    "    'афиша кино',\n",
    "    'курс доллара',\n",
    "    'сериалы этим летом',\n",
    "    'курс по питону',\n",
    "    'сериалы про спорт',\n",
    "]\n",
    "zapros = {} # создаем пустой словарь\n",
    "for quer in queries: # в цикле заполняем словарь\n",
    "    lengh = len(quer.split()) # ключами словаря будут количества слов в запросе\n",
    "    if lengh in zapros:\n",
    "        zapros[lengh] += 1 # значениями словаря будут числа, сколько раз встречался запрос из фиксированного набора слов\n",
    "    else:\n",
    "        zapros[lengh] = 1\n",
    "n = 100/sum(zapros.values()) # доля одного запроса в процентах\n",
    "for k in zapros: # для каждого ключа умножаем количество запросов на долю в процентах\n",
    "    zapros[k] *= (n)\n",
    "for key, val in zapros.items():\n",
    "    print('Поисковых запросов, содержащих', key, 'слов(а):', val,'%')"
   ]
  },
  {
   "cell_type": "markdown",
   "metadata": {},
   "source": [
    "# Задание 3"
   ]
  },
  {
   "cell_type": "code",
   "execution_count": null,
   "metadata": {},
   "outputs": [],
   "source": [
    "results = {\n",
    "    'vk': {'revenue': 103, 'cost': 98},\n",
    "    'yandex': {'revenue': 179, 'cost': 153},\n",
    "    'facebook': {'revenue': 103, 'cost': 110},\n",
    "    'adwords': {'revenue': 35, 'cost': 34},\n",
    "    'twitter': {'revenue': 11, 'cost': 24},\n",
    "}\n",
    "\n",
    "for val in results.values():\n",
    "    reven, cost = list(val.values())\n",
    "    val.setdefault('ROI',(reven/cost - 1)*100)\n",
    "print(results)"
   ]
  },
  {
   "cell_type": "markdown",
   "metadata": {},
   "source": [
    "# Задание 4"
   ]
  },
  {
   "cell_type": "code",
   "execution_count": null,
   "metadata": {},
   "outputs": [],
   "source": [
    "stats = {'facebook': 55, 'yandex': 115, 'vk': 120, 'google': 99, 'email': 42, 'ok': 98}\n",
    "max_value = 0\n",
    "key_max = str()\n",
    "for key, vl in stats.items():\n",
    "    if (vl > max_value):\n",
    "        max_value = vl\n",
    "        key_max = key\n",
    "print('Максимальный объем продаж на рекламном канале: ',key_max)"
   ]
  },
  {
   "cell_type": "markdown",
   "metadata": {},
   "source": [
    "# Задание 5"
   ]
  },
  {
   "cell_type": "code",
   "execution_count": null,
   "metadata": {},
   "outputs": [],
   "source": [
    "my_list = ['2018-01-01', 'yandex', 'cpc', 100]\n",
    "dictinary = my_list[-1] \n",
    "for i in range(len(my_list)-2,-1,-1): # цикл разматываем в обратную сторону\n",
    "    dictinary = {my_list[i] : dictinary} # текущий словарь вкладываем в словарь большей размерности до конца листа\n",
    "print(dictinary)"
   ]
  },
  {
   "cell_type": "markdown",
   "metadata": {},
   "source": [
    "# Задание 6"
   ]
  },
  {
   "cell_type": "code",
   "execution_count": 20,
   "metadata": {},
   "outputs": [],
   "source": [
    "cook_book = {\n",
    "  'салат': [\n",
    "     {'ingridient_name': 'сыр', 'quantity': 50, 'measure': 'гр'},\n",
    "     {'ingridient_name': 'томаты', 'quantity': 2, 'measure': 'шт'},\n",
    "     {'ingridient_name': 'огурцы', 'quantity': 20, 'measure': 'гр'},\n",
    "     {'ingridient_name': 'маслины', 'quantity': 10, 'measure': 'гр'},\n",
    "     {'ingridient_name': 'оливковое масло', 'quantity': 20, 'measure': 'мл'},\n",
    "     {'ingridient_name': 'салат', 'quantity': 10, 'measure': 'гр'},\n",
    "     {'ingridient_name': 'перец', 'quantity': 20, 'measure': 'гр'}\n",
    "    ],\n",
    "  'пицца': [\n",
    "     {'ingridient_name': 'сыр', 'quantity': 20, 'measure': 'гр'},\n",
    "     {'ingridient_name': 'колбаса', 'quantity': 30, 'measure': 'гр'},\n",
    "     {'ingridient_name': 'бекон', 'quantity': 30, 'measure': 'гр'},\n",
    "     {'ingridient_name': 'оливки', 'quantity': 10, 'measure': 'гр'},\n",
    "     {'ingridient_name': 'томаты', 'quantity': 20, 'measure': 'гр'},\n",
    "     {'ingridient_name': 'тесто', 'quantity': 100, 'measure': 'гр'},\n",
    "      {'ingridient_name': 'маслины', 'quantity': 10, 'measure': 'шт'},\n",
    "    ],\n",
    "  'лимонад': [\n",
    "     {'ingridient_name': 'лимон', 'quantity': 1, 'measure': 'шт'},\n",
    "     {'ingridient_name': 'вода', 'quantity': 200, 'measure': 'мл'},\n",
    "     {'ingridient_name': 'сахар', 'quantity': 10, 'measure': 'гр'},\n",
    "     {'ingridient_name': 'лайм', 'quantity': 20, 'measure': 'гр'},    \n",
    "    ]\n",
    "}"
   ]
  },
  {
   "cell_type": "code",
   "execution_count": 43,
   "metadata": {},
   "outputs": [
    {
     "name": "stdout",
     "output_type": "stream",
     "text": [
      "Введите количество порций: 3\n",
      "Сыр : 210 гр\n",
      "Томаты : 6 шт\n",
      "Огурцы : 60 гр\n",
      "Маслины : 30 гр\n",
      "Оливковое : 60 масло\n",
      "Салат : 30 гр\n",
      "Перец : 60 гр\n",
      "Колбаса : 90 гр\n",
      "Бекон : 90 гр\n",
      "Оливки : 30 гр\n",
      "Томаты : 60 гр\n",
      "Тесто : 300 гр\n",
      "Маслины : 30 шт\n",
      "Лимон : 3 шт\n",
      "Вода : 600 мл\n",
      "Сахар : 30 гр\n",
      "Лайм : 60 гр\n"
     ]
    }
   ],
   "source": [
    "person = int(input('Введите количество порций: '))\n",
    "dctnr = {} # создаем пустой словарь\n",
    "for vals in cook_book.values():\n",
    "    for vs in vals:\n",
    "        ingrt_nm, qtt, msrr = vs.values()\n",
    "        gnrt_keys = str(ingrt_nm + ' ' + msrr) # ключем будет строка из названия ингридиента и размерности\n",
    "        if gnrt_keys not in dctnr:            \n",
    "            qtt *= person           \n",
    "            dctnr[gnrt_keys] = qtt\n",
    "        else :\n",
    "            qtt*=person\n",
    "            dctnr[gnrt_keys] += qtt\n",
    "for ks, vls in dctnr.items():\n",
    "    query =list(ks.split())\n",
    "    print(query[0].capitalize(), ':', vls, query[1])"
   ]
  },
  {
   "cell_type": "code",
   "execution_count": null,
   "metadata": {},
   "outputs": [],
   "source": []
  }
 ],
 "metadata": {
  "kernelspec": {
   "display_name": "Python 3",
   "language": "python",
   "name": "python3"
  }
 },
 "nbformat": 4,
 "nbformat_minor": 4
}
