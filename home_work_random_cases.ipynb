{
 "cells": [
  {
   "cell_type": "markdown",
   "id": "ee1e9194",
   "metadata": {},
   "source": [
    "# Случайные события. Случайные величины"
   ]
  },
  {
   "cell_type": "code",
   "execution_count": 30,
   "id": "81f48691",
   "metadata": {},
   "outputs": [
    {
     "name": "stdout",
     "output_type": "stream",
     "text": [
      "38093\n"
     ]
    }
   ],
   "source": [
    "import numpy as np\n",
    "import re\n",
    "\n",
    "\n",
    "\n",
    "trials = 10000000\n",
    "\n",
    "profit = 1\n",
    "\n",
    "for i in range(trials):\n",
    "    # берем наугад число, которое может выпасть \n",
    "    number_out = np.random.randint(0,1000)\n",
    "    \n",
    "    if number_out == 777:\n",
    "        profit += 200\n",
    "    elif number_out == 999:\n",
    "        profit += 100\n",
    "    elif number_out == 555:\n",
    "        profit += 50\n",
    "    elif number_out == 333:\n",
    "        profit += 15\n",
    "    elif number_out == 111:\n",
    "        profit += 10\n",
    "    elif ((number_out - 77)%100 == 0):\n",
    "        profit += 5\n",
    "    elif ((number_out - 7)%10 == 0):\n",
    "        profit +=3\n",
    "    elif (number_out % 100 == 0):\n",
    "        profit += 2\n",
    "    elif (number_out % 10 == 0):\n",
    "        profit +=1\n",
    "    else:\n",
    "        profit -=1\n",
    "print(profit)\n"
   ]
  },
  {
   "cell_type": "code",
   "execution_count": 26,
   "id": "f2df2fbc",
   "metadata": {},
   "outputs": [
    {
     "name": "stdout",
     "output_type": "stream",
     "text": [
      "0.357\n"
     ]
    }
   ],
   "source": [
    "# теоретический выигры\n",
    "# вероятность выпадения чисел 777, 555, 999, 333, 111 равна 1/1000\n",
    "# вероятность выпадения *77 кроме случая 777 равна 9/1000\n",
    "# вероятность выпадения **7 кроме случаев выпадений *77 и 777 равна 90/1000\n",
    "# вероятность выпадения *00  равна 9/1000\n",
    "# вероятность выпадения **0 равна 90/1000\n",
    "# остальных случаев, за которые игрок ничего не получает, но лишается 1 рубля\n",
    "# будет равна: 1000 - (90 + 9 + 90 + 9 + 1 ) = 801\n",
    "teoretical = (200 + 100 + 50 + 15 + 10 + 9*5 + 90*7 + 9*2 + 90*1 - 801)/1000\n",
    "print(teoretical)"
   ]
  },
  {
   "cell_type": "code",
   "execution_count": null,
   "id": "308ee097",
   "metadata": {},
   "outputs": [],
   "source": []
  }
 ],
 "metadata": {
  "kernelspec": {
   "display_name": "Python 3",
   "language": "python",
   "name": "python3"
  },
  "language_info": {
   "codemirror_mode": {
    "name": "ipython",
    "version": 3
   },
   "file_extension": ".py",
   "mimetype": "text/x-python",
   "name": "python",
   "nbconvert_exporter": "python",
   "pygments_lexer": "ipython3",
   "version": "3.8.8"
  }
 },
 "nbformat": 4,
 "nbformat_minor": 5
}
