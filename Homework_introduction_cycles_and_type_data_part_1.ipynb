{
 "cells": [
  {
   "cell_type": "markdown",
   "metadata": {},
   "source": [
    "## Домашнее задание к лекции \"Введиние в типы данных и циклы. Часть 1\""
   ]
  },
  {
   "cell_type": "markdown",
   "metadata": {},
   "source": [
    "# *Задание 1*"
   ]
  },
  {
   "cell_type": "code",
   "execution_count": null,
   "metadata": {},
   "outputs": [],
   "source": [
    "word = 'testing'\n",
    "if len(word)%2 == 0:\n",
    "    first_ix = int( len(word)/2 - 1)\n",
    "    secnd_ix = int(len(word)/2)\n",
    "    out = word[first_ix] + word[secnd_ix]\n",
    "    print(out)\n",
    "else:\n",
    "    index = int((len(word)-1)/2)\n",
    "    print(word[index])"
   ]
  },
  {
   "cell_type": "markdown",
   "metadata": {},
   "source": [
    "# Задание 2"
   ]
  },
  {
   "cell_type": "code",
   "execution_count": null,
   "metadata": {},
   "outputs": [],
   "source": [
    "nmbs = int(input('Введите число: '))\n",
    "sums_of_nmbrs = 0\n",
    "while nmbs != 0:\n",
    "    sums_of_nmbrs +=  nmbs\n",
    "    nmbs = int(input('Введите число: '))\n",
    "print(sums_of_nmbrs)"
   ]
  },
  {
   "cell_type": "markdown",
   "metadata": {},
   "source": [
    "# Задание 3"
   ]
  },
  {
   "cell_type": "code",
   "execution_count": null,
   "metadata": {},
   "outputs": [],
   "source": [
    "boys = ['Peter', 'Alex', 'John', 'Arthur', 'Richard']\n",
    "girls = ['Kate', 'Liza', 'Kira', 'Emma', 'Trisha']\n",
    "print('Результат: ')\n",
    "if(len(boys) == len(girls)):\n",
    "    boys_sorted = sorted(boys)\n",
    "    girls_sorted = sorted(girls)\n",
    "    i = 0\n",
    "    boy = boys_sorted[i]\n",
    "    girl = girls_sorted[i]\n",
    "    print('Идеальные пары:')\n",
    "    while boy != boys[-1]:\n",
    "        print(boy, 'и', girl)\n",
    "        i = i+1\n",
    "        boy = boys_sorted[i]\n",
    "        girl = girls_sorted[i]\n",
    "else:\n",
    "    print('Внимание, кто-то может остаться без пары!')\n",
    "\n",
    "\n",
    "    "
   ]
  },
  {
   "cell_type": "markdown",
   "metadata": {},
   "source": [
    "# Задание 4"
   ]
  },
  {
   "cell_type": "code",
   "execution_count": null,
   "metadata": {},
   "outputs": [],
   "source": [
    "countries_temperature = [\n",
    "    ['Thailand', [75.2, 77, 78.8, 73.4, 68, 75.2, 77]],\n",
    "    ['Germany', [57.2, 55.4, 59, 59, 53.6]],\n",
    "    ['Russia', [35.6, 37.4, 39.2, 41, 42.8, 39.2, 35.6]],\n",
    "    ['Poland', [50, 50, 53.6, 57.2, 55.4, 55.4]]\n",
    "]\n",
    "print('Средняя температура в странах: ')\n",
    "for countri_temp in countries_temperature:\n",
    "            contry, *temp = countri_temp\n",
    "            average_temp = (sum(*temp)/len(*temp) - 32)/(9/5)\n",
    "            print(contry, ' - ', average_temp, 'C')"
   ]
  },
  {
   "cell_type": "markdown",
   "metadata": {},
   "source": [
    "# Задание 5"
   ]
  },
  {
   "cell_type": "code",
   "execution_count": null,
   "metadata": {},
   "outputs": [],
   "source": [
    "stream = [\n",
    "    '2018-01-01,user1,3',\n",
    "    '2018-01-07,user1,4',\n",
    "    '2018-03-29,user1,1',\n",
    "    '2018-04-04,user1,13',\n",
    "    '2018-01-05,user2,7',\n",
    "    '2018-06-14,user3,4',\n",
    "    '2018-07-02,user3,10',\n",
    "    '2018-03-21,user4,19',\n",
    "    '2018-03-22,user4,4',\n",
    "    '2018-04-22,user4,8',\n",
    "    '2018-05-03,user4,9',\n",
    "    '2018-05-11,user4,11',\n",
    "]\n",
    "sum_of_watch = 0 # всего просмотров на данный момент\n",
    "nmbr_of_user = [] # массив для фиксации различных юзеров \n",
    "for strm in stream: \n",
    "    user = strm.split(',') # парсим каждый элемет stream, который является строкой\n",
    "    sum_of_watch += int(user[-1]) # суммируем все просмотры\n",
    "    if(int(user[-2][4:]) not in nmbr_of_user): # если элемент не содержится в массиве, добавляем\n",
    "        nmbr_of_user.append(int(user[-2][4:]))\n",
    "print('Среднее количество просмотров на уникального пользовтеля:', sum_of_watch/len(nmbr_of_user))\n",
    "\n"
   ]
  },
  {
   "cell_type": "markdown",
   "metadata": {},
   "source": [
    "# Задание 6"
   ]
  },
  {
   "cell_type": "code",
   "execution_count": 20,
   "metadata": {},
   "outputs": [
    {
     "name": "stdout",
     "output_type": "stream",
     "text": [
      "Введите числа: 3 3 3 3 2 1 2\n",
      "Результат: \n",
      "[2, 3]\n"
     ]
    }
   ],
   "source": [
    "lst_of_nmbr = input('Введите числа: ').split(' ') # Ввводим данные\n",
    "int_lst_nmbr = [] # массив, который будет содержать уже числа, а строки\n",
    "nmbr_out = [] # массив, который будет содержать только те элементы, которые входят больше одного раза\n",
    "for nmbr in lst_of_nmbr:\n",
    "    int_lst_nmbr.append(int(nmbr))  #создаем массив чисел и массива строк\n",
    "for nmb in int_lst_nmbr: \n",
    "    if (int_lst_nmbr.count(nmb) > 1  ): # если список содерит число больше одного раза\n",
    "        if(nmb not in nmbr_out): # и если этого числа еще нет в списке, который необходимо получить\n",
    "            nmbr_out.append(nmb) # то добавляем число\n",
    "print('Результат: ')\n",
    "print(sorted(nmbr_out))"
   ]
  },
  {
   "cell_type": "code",
   "execution_count": null,
   "metadata": {},
   "outputs": [],
   "source": []
  },
  {
   "cell_type": "code",
   "execution_count": null,
   "metadata": {},
   "outputs": [],
   "source": []
  },
  {
   "cell_type": "code",
   "execution_count": null,
   "metadata": {},
   "outputs": [],
   "source": []
  },
  {
   "cell_type": "code",
   "execution_count": null,
   "metadata": {},
   "outputs": [],
   "source": []
  },
  {
   "cell_type": "code",
   "execution_count": null,
   "metadata": {},
   "outputs": [],
   "source": []
  },
  {
   "cell_type": "code",
   "execution_count": null,
   "metadata": {},
   "outputs": [],
   "source": []
  }
 ],
 "metadata": {
  "kernelspec": {
   "display_name": "Python 3",
   "language": "python",
   "name": "python3"
  },
  "language_info": {
   "codemirror_mode": {
    "name": "ipython",
    "version": 3
   },
   "file_extension": ".py",
   "mimetype": "text/x-python",
   "name": "python",
   "nbconvert_exporter": "python",
   "pygments_lexer": "ipython3",
   "version": "3.8.5"
  }
 },
 "nbformat": 4,
 "nbformat_minor": 4
}
