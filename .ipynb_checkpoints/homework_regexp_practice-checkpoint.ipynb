{
 "cells": [
  {
   "cell_type": "markdown",
   "id": "b7fbf57b",
   "metadata": {},
   "source": [
    "# Задание №1"
   ]
  },
  {
   "cell_type": "code",
   "execution_count": 28,
   "id": "58cd1e19",
   "metadata": {},
   "outputs": [
    {
     "name": "stdout",
     "output_type": "stream",
     "text": [
      "Номер A222BC  Регион: 96\n",
      "Номер не валиден\n"
     ]
    }
   ],
   "source": [
    "import re\n",
    "\n",
    "def split_car_number(car_id):\n",
    "    try:\n",
    "        full_number_car = re.findall(r'\\w\\d{3}\\w{2}\\d{2,3}', car_id)\n",
    "        number_car = full_number_car[0][0:6]\n",
    "        region = full_number_car[0][6:]\n",
    "        print('Номер', number_car, ' Регион:',  region)\n",
    "    except:\n",
    "        print('Номер не валиден')\n",
    "    \n",
    "split_car_number('A222BC96')\n",
    "split_car_number('АБ22ВВ193')\n",
    "    "
   ]
  },
  {
   "cell_type": "markdown",
   "id": "2d7185f3",
   "metadata": {},
   "source": [
    "# Задание № 2"
   ]
  },
  {
   "cell_type": "code",
   "execution_count": 180,
   "id": "18e702a2",
   "metadata": {},
   "outputs": [
    {
     "data": {
      "text/plain": [
       "'Напишите функцию функцию, которая будет будет будет будет удалять все все все все последовательные повторы слов из из из из заданной строки строки при помощи регулярных выражений.'"
      ]
     },
     "execution_count": 180,
     "metadata": {},
     "output_type": "execute_result"
    }
   ],
   "source": [
    "some_string = 'Напишите функцию функцию, которая будет будет будет будет удалять все все все все последовательные повторы слов из из из из заданной строки строки при помощи регулярных выражений.'\n",
    "re.sub(r'(\\b\\w+)+', r'\\1', some_string)"
   ]
  },
  {
   "cell_type": "code",
   "execution_count": 18,
   "id": "b0a6afca",
   "metadata": {},
   "outputs": [
    {
     "name": "stdout",
     "output_type": "stream",
     "text": [
      "Напишите 11 функцию функцию, которая будет удалять все последовательные повторы слов из заданной строки при помощи регулярных выражений.\n"
     ]
    }
   ],
   "source": [
    "import re\n",
    "some_string = 'Напишите 11 11 11 функцию функцию, которая будет будет будет будет удалять все все все все последовательные повторы слов из из из из заданной строки строки при помощи регулярных выражений.'\n",
    "# list_of_words = re.findall(r'\\w+', list_of_worlds)\n",
    "x = re.sub(r'(\\b\\w+[\\s ,])\\1+', r'\\1', some_string)\n",
    "print(x)"
   ]
  },
  {
   "cell_type": "markdown",
   "id": "923eb338",
   "metadata": {},
   "source": [
    "# Задание №3"
   ]
  },
  {
   "cell_type": "code",
   "execution_count": 21,
   "id": "c1f52376",
   "metadata": {},
   "outputs": [],
   "source": [
    "def make_akronim(some_string):\n",
    "    list_of_first_literal = re.findall(r'\\b\\w', some_string)\n",
    "    akronim = str()\n",
    "    for literal in list_of_first_literal:\n",
    "        akronim += literal.upper()\n",
    "    return akronim"
   ]
  },
  {
   "cell_type": "code",
   "execution_count": 23,
   "id": "8f9d4721",
   "metadata": {},
   "outputs": [
    {
     "data": {
      "text/plain": [
       "'NFC'"
      ]
     },
     "execution_count": 23,
     "metadata": {},
     "output_type": "execute_result"
    }
   ],
   "source": [
    "make_akronim('Near Field Communication')"
   ]
  },
  {
   "cell_type": "markdown",
   "id": "8c87a7bf",
   "metadata": {},
   "source": [
    "# Задание № 4"
   ]
  },
  {
   "cell_type": "code",
   "execution_count": 71,
   "id": "0d8c7239",
   "metadata": {},
   "outputs": [
    {
     "data": {
      "text/plain": [
       "{'gmail.com': 2, 'test.in': 1, 'ya.ru': 2, 'mail.ru': 1}"
      ]
     },
     "execution_count": 71,
     "metadata": {},
     "output_type": "execute_result"
    }
   ],
   "source": [
    "emails = ['test@gmail.com', 'xyz@test.in', 'test@ya.ru', 'xyz@mail.ru', 'xyz@ya.ru', 'xyz@gmail.com']\n",
    "import re\n",
    "def domens(list_mails):\n",
    "    domens_dic = {}\n",
    "    for mail in list_mails:\n",
    "        domen = re.findall(r'@\\w+.\\w{2,3}', mail)\n",
    "        name_d = domen[0][1:]     \n",
    "        if name_d in domens_dic.keys():\n",
    "            domens_dic[name_d] += 1\n",
    "        else:\n",
    "            domens_dic[name_d] = 1\n",
    "    return domens_dic\n",
    "domens(emails)"
   ]
  },
  {
   "cell_type": "markdown",
   "id": "f6578af9",
   "metadata": {},
   "source": [
    "# Задание №5"
   ]
  },
  {
   "cell_type": "code",
   "execution_count": null,
   "id": "15b17510",
   "metadata": {},
   "outputs": [],
   "source": [
    "some_text = 'Эталонной реализацией Python является интерпретатор CPython, поддерживающий большинство активно используемых платформ. Он распространяется под свободной лицензией Python Software Foundation License, позволяющей использовать его без ограничений в любых приложениях, включая проприетарные.'"
   ]
  },
  {
   "cell_type": "code",
   "execution_count": 93,
   "id": "78656605",
   "metadata": {},
   "outputs": [],
   "source": [
    "def count_letter(some_text):\n",
    "    out_string = str()\n",
    "    for letter in some_text:\n",
    "        out_string += letter.lower()\n",
    "    vowels = r'\\b[аеёиоуыэюяaeiouy]'\n",
    "    consonants = r'\\b[qwrtplkjhgfdszxcvbnmйцкнгшщзхфвпрлджбтмсч]'\n",
    "    print('Слов на гласные буквы: ', len(re.findall(vowels, out_string)))\n",
    "    print('Слов на согласные буквы: ',len(re.findall(consonants, out_string)) )"
   ]
  },
  {
   "cell_type": "code",
   "execution_count": 94,
   "id": "bdcae25d",
   "metadata": {},
   "outputs": [
    {
     "name": "stdout",
     "output_type": "stream",
     "text": [
      "Слов на гласные буквы:  9\n",
      "Слов на согласные буквы:  21\n"
     ]
    }
   ],
   "source": [
    "count_letter(some_text)"
   ]
  },
  {
   "cell_type": "markdown",
   "id": "a173a50b",
   "metadata": {},
   "source": [
    "# Задание № 6"
   ]
  },
  {
   "cell_type": "code",
   "execution_count": 149,
   "id": "19bc332d",
   "metadata": {},
   "outputs": [
    {
     "data": {
      "text/plain": [
       "'Номер не валиден'"
      ]
     },
     "execution_count": 149,
     "metadata": {},
     "output_type": "execute_result"
    }
   ],
   "source": [
    "phone = '8888888'\n",
    "posible_for_phone_number = '[\\s - (]'\n",
    "re.findall(r'\\d.\\d{3}.\\d{3}.\\d{2}.\\d{2}', phone)\n",
    "def find_number(phone):\n",
    "    try:\n",
    "        ph_nmb = re.findall(r'.\\d{3}.\\d{3}.\\d{2}.\\d{2}', phone)[0]\n",
    "        out = '+7'+ '-' + ph_nmb[1:4]+'-' +ph_nmb[5:8] + '-' + ph_nmb[9:11] + '-' + ph_nmb[12:14]\n",
    "        return out\n",
    "    except:\n",
    "        return 'Номер не валиден'\n",
    "find_number(phone)"
   ]
  },
  {
   "cell_type": "code",
   "execution_count": null,
   "id": "1e8c8f50",
   "metadata": {},
   "outputs": [],
   "source": []
  },
  {
   "cell_type": "code",
   "execution_count": null,
   "id": "cd20e431",
   "metadata": {},
   "outputs": [],
   "source": []
  },
  {
   "cell_type": "code",
   "execution_count": null,
   "id": "1790f592",
   "metadata": {},
   "outputs": [],
   "source": []
  },
  {
   "cell_type": "code",
   "execution_count": null,
   "id": "8f8f7b87",
   "metadata": {},
   "outputs": [],
   "source": []
  },
  {
   "cell_type": "code",
   "execution_count": null,
   "id": "8d945c8e",
   "metadata": {},
   "outputs": [],
   "source": []
  },
  {
   "cell_type": "code",
   "execution_count": null,
   "id": "b9f2d81b",
   "metadata": {},
   "outputs": [],
   "source": []
  },
  {
   "cell_type": "code",
   "execution_count": null,
   "id": "6afcad43",
   "metadata": {},
   "outputs": [],
   "source": []
  }
 ],
 "metadata": {
  "kernelspec": {
   "display_name": "Python 3",
   "language": "python",
   "name": "python3"
  },
  "language_info": {
   "codemirror_mode": {
    "name": "ipython",
    "version": 3
   },
   "file_extension": ".py",
   "mimetype": "text/x-python",
   "name": "python",
   "nbconvert_exporter": "python",
   "pygments_lexer": "ipython3",
   "version": "3.8.8"
  }
 },
 "nbformat": 4,
 "nbformat_minor": 5
}
