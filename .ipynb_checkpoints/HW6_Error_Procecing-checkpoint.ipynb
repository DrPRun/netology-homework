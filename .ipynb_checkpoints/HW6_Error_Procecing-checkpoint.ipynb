{
 "cells": [
  {
   "cell_type": "markdown",
   "id": "045015e1",
   "metadata": {},
   "source": [
    "# Задание 1"
   ]
  },
  {
   "cell_type": "code",
   "execution_count": 8,
   "id": "c8d1e4a7",
   "metadata": {},
   "outputs": [],
   "source": [
    "from datetime import datetime\n",
    "the_moscow_times = datetime.strptime('Wednesday, October 2, 2002', '%A, %B %d, %Y' )\n",
    "the_guardian = datetime.strptime('Friday, 11.10.13', '%A, %m.%d.%y' )\n",
    "daily_news = datetime.strptime('Thursday, 18 August 1977', '%A, %d %B %Y' )"
   ]
  },
  {
   "cell_type": "code",
   "execution_count": 9,
   "id": "558baa1c",
   "metadata": {},
   "outputs": [
    {
     "name": "stdout",
     "output_type": "stream",
     "text": [
      "2002-10-02 00:00:00\n",
      "2013-11-10 00:00:00\n",
      "1977-08-18 00:00:00\n"
     ]
    }
   ],
   "source": [
    "print(the_moscow_times)\n",
    "print(the_guardian)\n",
    "print(daily_news)"
   ]
  },
  {
   "cell_type": "markdown",
   "id": "ae4131c6",
   "metadata": {},
   "source": [
    "# Задание 2"
   ]
  },
  {
   "cell_type": "code",
   "execution_count": 41,
   "id": "e5687ab3",
   "metadata": {},
   "outputs": [],
   "source": [
    "stream = ['2018-04-02', '2018-02-29', '2018-19-02']"
   ]
  },
  {
   "cell_type": "code",
   "execution_count": 35,
   "id": "1c43b4ba",
   "metadata": {},
   "outputs": [],
   "source": [
    "from datetime import datetime\n",
    "def check_stream(stream):\n",
    "    for date in stream:\n",
    "        try:\n",
    "            the_date = datetime.strptime(date, '%Y-%m-%d')\n",
    "            print(the_date, True)\n",
    "        except:\n",
    "            print('Incorrect date')\n",
    "            pass\n",
    "    "
   ]
  },
  {
   "cell_type": "code",
   "execution_count": 42,
   "id": "79bc5670",
   "metadata": {},
   "outputs": [
    {
     "name": "stdout",
     "output_type": "stream",
     "text": [
      "2018-04-02 00:00:00 True\n",
      "Incorrect date\n",
      "Incorrect date\n"
     ]
    }
   ],
   "source": [
    "check_stream(stream)"
   ]
  },
  {
   "cell_type": "markdown",
   "id": "b9592ebe",
   "metadata": {},
   "source": [
    "# Задание 3"
   ]
  },
  {
   "cell_type": "code",
   "execution_count": 14,
   "id": "b0a1536f",
   "metadata": {},
   "outputs": [
    {
     "data": {
      "text/plain": [
       "['2018-04-02',\n",
       " '2018-04-03',\n",
       " '2018-04-04',\n",
       " '2018-04-05',\n",
       " '2018-04-06',\n",
       " '2018-04-07',\n",
       " '2018-04-08']"
      ]
     },
     "execution_count": 14,
     "metadata": {},
     "output_type": "execute_result"
    }
   ],
   "source": [
    "from datetime import datetime\n",
    "from datetime import timedelta\n",
    "def date_range(start_date, end_date):\n",
    "    list_ = []\n",
    "    try:\n",
    "        start_date_dt = datetime.strptime(start_date, '%Y-%m-%d') # полученные данные в виде строк переводим в объект типа datetime\n",
    "        end_date_dt = datetime.strptime(end_date, '%Y-%m-%d')\n",
    "        while start_date_dt <= end_date_dt:\n",
    "            string_time = start_date_dt.strftime('%Y-%m-%d') # объект datetime на каждом шаге цикла переводим в строку,чтобы добавить в лист\n",
    "            list_.append(string_time)\n",
    "            start_date_dt += timedelta(days=1)\n",
    "    except:\n",
    "        pass\n",
    "    finally:\n",
    "        return list_\n",
    "date_range('2018-04-02','2018-04-08')"
   ]
  },
  {
   "cell_type": "markdown",
   "id": "87d3f163",
   "metadata": {},
   "source": [
    "# Задание 4"
   ]
  },
  {
   "cell_type": "code",
   "execution_count": 83,
   "id": "ba23277e",
   "metadata": {},
   "outputs": [],
   "source": [
    "DEFAULT_USER_COUNT = 3\n",
    "def delete_and_return_last_user(region, default_list=['A100', 'A101', 'A102']):\n",
    "    \"\"\"\n",
    "    Удаляет из списка default_list последнего пользователя\n",
    "    и возвращает ID нового последнего пользователя.\n",
    "    \"\"\"\n",
    "    element_to_delete = default_list[-1]\n",
    "    default_list.remove(element_to_delete)\n",
    "    return default_list[DEFAULT_USER_COUNT-2]"
   ]
  },
  {
   "cell_type": "code",
   "execution_count": 85,
   "id": "228c92ef",
   "metadata": {},
   "outputs": [
    {
     "ename": "IndexError",
     "evalue": "list index out of range",
     "output_type": "error",
     "traceback": [
      "\u001b[0;31m---------------------------------------------------------------------------\u001b[0m",
      "\u001b[0;31mIndexError\u001b[0m                                Traceback (most recent call last)",
      "\u001b[0;32m<ipython-input-85-bfb6c4f8c48e>\u001b[0m in \u001b[0;36m<module>\u001b[0;34m\u001b[0m\n\u001b[0;32m----> 1\u001b[0;31m \u001b[0mdelete_and_return_last_user\u001b[0m\u001b[0;34m(\u001b[0m\u001b[0;36m1\u001b[0m\u001b[0;34m)\u001b[0m\u001b[0;34m\u001b[0m\u001b[0;34m\u001b[0m\u001b[0m\n\u001b[0m",
      "\u001b[0;32m<ipython-input-83-6ce7cc39b166>\u001b[0m in \u001b[0;36mdelete_and_return_last_user\u001b[0;34m(region, default_list)\u001b[0m\n\u001b[1;32m      7\u001b[0m     \u001b[0melement_to_delete\u001b[0m \u001b[0;34m=\u001b[0m \u001b[0mdefault_list\u001b[0m\u001b[0;34m[\u001b[0m\u001b[0;34m-\u001b[0m\u001b[0;36m1\u001b[0m\u001b[0;34m]\u001b[0m\u001b[0;34m\u001b[0m\u001b[0;34m\u001b[0m\u001b[0m\n\u001b[1;32m      8\u001b[0m     \u001b[0mdefault_list\u001b[0m\u001b[0;34m.\u001b[0m\u001b[0mremove\u001b[0m\u001b[0;34m(\u001b[0m\u001b[0melement_to_delete\u001b[0m\u001b[0;34m)\u001b[0m\u001b[0;34m\u001b[0m\u001b[0;34m\u001b[0m\u001b[0m\n\u001b[0;32m----> 9\u001b[0;31m     \u001b[0;32mreturn\u001b[0m \u001b[0mdefault_list\u001b[0m\u001b[0;34m[\u001b[0m\u001b[0mDEFAULT_USER_COUNT\u001b[0m\u001b[0;34m-\u001b[0m\u001b[0;36m2\u001b[0m\u001b[0;34m]\u001b[0m\u001b[0;34m\u001b[0m\u001b[0;34m\u001b[0m\u001b[0m\n\u001b[0m",
      "\u001b[0;31mIndexError\u001b[0m: list index out of range"
     ]
    }
   ],
   "source": [
    "delete_and_return_last_user(1)"
   ]
  },
  {
   "cell_type": "code",
   "execution_count": null,
   "id": "bd71a137",
   "metadata": {},
   "outputs": [],
   "source": [
    "# \"IndexError: list index out of range\" обращается к индексу несуществующего элемента списка\n",
    "#  При первом запуске возвращется элемента списка с индексом \"1\",\n",
    "#  который соответсвует элементу 'A101'. При втором запуске, лист содержит 2 элемента с индексами\n",
    "# '0','1'. Причём элемент с индексом '1' удаляется перед командой return"
   ]
  }
 ],
 "metadata": {
  "kernelspec": {
   "display_name": "Python 3",
   "language": "python",
   "name": "python3"
  },
  "language_info": {
   "codemirror_mode": {
    "name": "ipython",
    "version": 3
   },
   "file_extension": ".py",
   "mimetype": "text/x-python",
   "name": "python",
   "nbconvert_exporter": "python",
   "pygments_lexer": "ipython3",
   "version": "3.8.8"
  }
 },
 "nbformat": 4,
 "nbformat_minor": 5
}
