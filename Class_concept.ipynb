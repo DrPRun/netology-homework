{
 "cells": [
  {
   "cell_type": "markdown",
   "id": "e982e823",
   "metadata": {},
   "source": [
    "# Задание №1"
   ]
  },
  {
   "cell_type": "code",
   "execution_count": 1,
   "id": "1571d1b9",
   "metadata": {},
   "outputs": [],
   "source": [
    "import requests\n",
    "full_data = requests.get('https://www.cbr-xml-daily.ru/daily_json.js').json()\n",
    "usd = full_data['Valute']['USD']['Value']"
   ]
  },
  {
   "cell_type": "code",
   "execution_count": 2,
   "id": "e8d2618d",
   "metadata": {},
   "outputs": [],
   "source": [
    "import requests\n",
    "def max_valute():\n",
    "    full_data = requests.get('https://www.cbr-xml-daily.ru/daily_json.js').json()\n",
    "    max_value = 0\n",
    "    max_name = str()\n",
    "    for valute in full_data['Valute'].keys():\n",
    "        try:\n",
    "            cur_val = full_data['Valute'][valute]['Value']\n",
    "            if max_value < cur_val:\n",
    "                max_value = cur_val\n",
    "                max_name = full_data['Valute'][valute]['Name']\n",
    "        except:\n",
    "            pass\n",
    "    return max_name\n",
    "        \n",
    "        "
   ]
  },
  {
   "cell_type": "code",
   "execution_count": 3,
   "id": "821094ea",
   "metadata": {},
   "outputs": [
    {
     "data": {
      "text/plain": [
       "'СДР (специальные права заимствования)'"
      ]
     },
     "execution_count": 3,
     "metadata": {},
     "output_type": "execute_result"
    }
   ],
   "source": [
    "max_valute()"
   ]
  },
  {
   "cell_type": "markdown",
   "id": "b6d8a5b5",
   "metadata": {},
   "source": [
    "# Задание № 2"
   ]
  },
  {
   "cell_type": "code",
   "execution_count": 77,
   "id": "9b6721d0",
   "metadata": {},
   "outputs": [],
   "source": [
    "class Rate:\n",
    "    def __init__(self,diff = False, format_='value'):\n",
    "        self.format = format_\n",
    "        self.diff = diff\n",
    "    \n",
    "    def exchange_rates(self):\n",
    "        \"\"\"\n",
    "        Возвращает ответ сервиса с информацией о валютах в виде:\n",
    "        \n",
    "        {\n",
    "            'AMD': {\n",
    "                'CharCode': 'AMD',\n",
    "                'ID': 'R01060',\n",
    "                'Name': 'Армянских драмов',\n",
    "                'Nominal': 100,\n",
    "                'NumCode': '051',\n",
    "                'Previous': 14.103,\n",
    "                'Value': 14.0879\n",
    "                },\n",
    "            ...\n",
    "        }\n",
    "        \"\"\"\n",
    "        self.r = requests.get('https://www.cbr-xml-daily.ru/daily_json.js')\n",
    "        return self.r.json()['Valute']\n",
    "    \n",
    "    def change_valute(self, name_valute):\n",
    "        \"\"\"\n",
    "        Функция, которая возвращает предыдущее значение валюты курса валюты за период\n",
    "\n",
    "        \"\"\"\n",
    "        response = self.exchange_rates()\n",
    "        if name_valute in response:\n",
    "            return response[name_valute]['Previous']\n",
    "        return 'Error'\n",
    "            \n",
    "        \n",
    "    def make_format(self, currency):\n",
    "        \"\"\"\n",
    "        Возвращает информацию о валюте currency в двух вариантах:\n",
    "        - полная информация о валюте при self.format = 'full':\n",
    "        Rate('full').make_format('EUR')\n",
    "        {\n",
    "            'CharCode': 'EUR',\n",
    "            'ID': 'R01239',\n",
    "            'Name': 'Евро',\n",
    "            'Nominal': 1,\n",
    "            'NumCode': '978',\n",
    "            'Previous': 79.6765,\n",
    "            'Value': 79.4966\n",
    "        }\n",
    "        \n",
    "        Rate('value').make_format('EUR')\n",
    "        79.4966\n",
    "        \"\"\"\n",
    "        response = self.exchange_rates()\n",
    "        \n",
    "        if currency in response:\n",
    "            if self.format == 'full':\n",
    "                return response[currency]\n",
    "            \n",
    "            if self.format == 'value':\n",
    "                return response[currency]['Value']\n",
    "        \n",
    "        return 'Error'\n",
    "    \n",
    "    def eur(self):\n",
    "        \"\"\"Возвращает курс евро на сегодня в формате self.format\n",
    "        если self.diff = True, то возвращает разницу предыдущим\n",
    "        \"\"\"\n",
    "        if self.diff and self.format =='value': \n",
    "            return ( (self.make_format('EUR')) - (self.change_valute('EUR')) )\n",
    "        return self.make_format('EUR')\n",
    "    \n",
    "    def usd(self):\n",
    "        \"\"\"Возвращает курс доллара на сегодня в формате self.format\"\"\"\n",
    "        if self.diff and self.format =='value': \n",
    "            return ( (self.make_format('USD')) - (self.change_valute('USD')) )\n",
    "        return self.make_format('USD')\n",
    "    \n",
    "    def brl(self):\n",
    "        \"\"\"Возвращает курс бразильского реала на сегодня в формате self.format\"\"\"\n",
    "        if self.diff and self.format =='value': \n",
    "            return ( (self.make_format('BRL')) - (self.change_valute('BRL')) )\n",
    "        return self.make_format('BRL')"
   ]
  },
  {
   "cell_type": "code",
   "execution_count": 78,
   "id": "2b4939c7",
   "metadata": {},
   "outputs": [
    {
     "data": {
      "text/plain": [
       "73.2721"
      ]
     },
     "execution_count": 78,
     "metadata": {},
     "output_type": "execute_result"
    }
   ],
   "source": [
    "a = Rate(format_ = 'value')\n",
    "# a.change_valute('EUR')\n",
    "# a.eur()\n",
    "# print(a.eur(), a.change_valute('EUR'))\n",
    "a.usd()"
   ]
  },
  {
   "cell_type": "markdown",
   "id": "c8e527e8",
   "metadata": {},
   "source": [
    "# Задание 3"
   ]
  },
  {
   "cell_type": "code",
   "execution_count": 92,
   "id": "350040d3",
   "metadata": {},
   "outputs": [],
   "source": [
    "\n",
    "class Employee:\n",
    "    def __init__(self, name, seniority):\n",
    "        self.name = name\n",
    "        self.seniority = seniority\n",
    "        \n",
    "        self.grade = 1\n",
    "    \n",
    "    def grade_up(self):\n",
    "        \"\"\"Повышает уровень сотрудника\"\"\"\n",
    "        self.grade += 1\n",
    "    \n",
    "    def publish_grade(self):\n",
    "        \"\"\"Публикация результатов аккредитации сотрудников\"\"\"\n",
    "        print(self.name, self.grade)\n",
    "    \n",
    "    def check_if_it_is_time_for_upgrade(self):\n",
    "        pass"
   ]
  },
  {
   "cell_type": "code",
   "execution_count": 93,
   "id": "0ed2d1c3",
   "metadata": {},
   "outputs": [],
   "source": [
    "class Designer(Employee):\n",
    "    def __init__(self, name, seniority):\n",
    "        super().__init__(name, seniority)\n",
    "        self.prize = 2\n",
    "    \n",
    "    def get_prize(self):\n",
    "        self.seniority += 2\n",
    "        \n",
    "        if self.seniority % 7 == 0:\n",
    "            self.grade += 1\n",
    "        \n",
    "        return self.publish_grade()\n",
    "        \n",
    "    "
   ]
  },
  {
   "cell_type": "code",
   "execution_count": 94,
   "id": "61047566",
   "metadata": {},
   "outputs": [],
   "source": [
    "b = Designer('Alexandr', 5)"
   ]
  },
  {
   "cell_type": "code",
   "execution_count": null,
   "id": "cb1e1464",
   "metadata": {},
   "outputs": [],
   "source": []
  }
 ],
 "metadata": {
  "kernelspec": {
   "display_name": "Python 3",
   "language": "python",
   "name": "python3"
  },
  "language_info": {
   "codemirror_mode": {
    "name": "ipython",
    "version": 3
   },
   "file_extension": ".py",
   "mimetype": "text/x-python",
   "name": "python",
   "nbconvert_exporter": "python",
   "pygments_lexer": "ipython3",
   "version": "3.8.8"
  }
 },
 "nbformat": 4,
 "nbformat_minor": 5
}
